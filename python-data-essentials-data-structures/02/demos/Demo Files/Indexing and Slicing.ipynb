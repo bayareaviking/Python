{
 "cells": [
  {
   "cell_type": "code",
   "execution_count": 1,
   "id": "6c4e1aac",
   "metadata": {},
   "outputs": [
    {
     "data": {
      "text/plain": [
       "['apple', 'banana', 'orange', 'pineapple', 'mango', 'pear', 'grapes', 'lemon']"
      ]
     },
     "execution_count": 1,
     "metadata": {},
     "output_type": "execute_result"
    }
   ],
   "source": [
    "products = ['apple', 'banana', 'orange', 'pineapple', 'mango', 'pear','grapes', 'lemon' ]\n",
    "products"
   ]
  },
  {
   "cell_type": "code",
   "execution_count": 2,
   "id": "8cecc78f",
   "metadata": {},
   "outputs": [
    {
     "data": {
      "text/plain": [
       "'lemon'"
      ]
     },
     "execution_count": 2,
     "metadata": {},
     "output_type": "execute_result"
    }
   ],
   "source": [
    "products[-1]"
   ]
  },
  {
   "cell_type": "code",
   "execution_count": 3,
   "id": "abeaf9e1",
   "metadata": {},
   "outputs": [
    {
     "data": {
      "text/plain": [
       "7"
      ]
     },
     "execution_count": 3,
     "metadata": {},
     "output_type": "execute_result"
    }
   ],
   "source": [
    "#Find the index of a specific element\n",
    "products.index('lemon')"
   ]
  },
  {
   "cell_type": "code",
   "execution_count": 4,
   "id": "31d1d15a",
   "metadata": {},
   "outputs": [
    {
     "data": {
      "text/plain": [
       "'lemon'"
      ]
     },
     "execution_count": 4,
     "metadata": {},
     "output_type": "execute_result"
    }
   ],
   "source": [
    "products[7]"
   ]
  },
  {
   "cell_type": "code",
   "execution_count": 5,
   "id": "3c0d461b",
   "metadata": {},
   "outputs": [
    {
     "ename": "IndexError",
     "evalue": "list index out of range",
     "output_type": "error",
     "traceback": [
      "\u001b[0;31m---------------------------------------------------------------------------\u001b[0m",
      "\u001b[0;31mIndexError\u001b[0m                                Traceback (most recent call last)",
      "Input \u001b[0;32mIn [5]\u001b[0m, in \u001b[0;36m<cell line: 2>\u001b[0;34m()\u001b[0m\n\u001b[1;32m      1\u001b[0m \u001b[38;5;66;03m# Selecting elements with index greater than 7\u001b[39;00m\n\u001b[0;32m----> 2\u001b[0m \u001b[43mproducts\u001b[49m\u001b[43m[\u001b[49m\u001b[38;5;241;43m10\u001b[39;49m\u001b[43m]\u001b[49m\n",
      "\u001b[0;31mIndexError\u001b[0m: list index out of range"
     ]
    }
   ],
   "source": [
    "# Selecting elements with index greater than 7\n",
    "products[10]"
   ]
  },
  {
   "cell_type": "code",
   "execution_count": 6,
   "id": "000f05eb",
   "metadata": {},
   "outputs": [
    {
     "data": {
      "text/plain": [
       "True"
      ]
     },
     "execution_count": 6,
     "metadata": {},
     "output_type": "execute_result"
    }
   ],
   "source": [
    "'mango' in products"
   ]
  },
  {
   "cell_type": "code",
   "execution_count": 7,
   "id": "7d74ae89",
   "metadata": {},
   "outputs": [
    {
     "data": {
      "text/plain": [
       "False"
      ]
     },
     "execution_count": 7,
     "metadata": {},
     "output_type": "execute_result"
    }
   ],
   "source": [
    "'apple' not in products"
   ]
  },
  {
   "cell_type": "code",
   "execution_count": 9,
   "id": "40d28964",
   "metadata": {},
   "outputs": [
    {
     "data": {
      "text/plain": [
       "['apple', 'lime', 'orange', 'pineapple', 'mango', 'pear', 'grapes', 'lemon']"
      ]
     },
     "execution_count": 9,
     "metadata": {},
     "output_type": "execute_result"
    }
   ],
   "source": [
    "# Replacing elements\n",
    "products[1] = 'lime'\n",
    "products"
   ]
  },
  {
   "cell_type": "code",
   "execution_count": 10,
   "id": "412ba75d",
   "metadata": {},
   "outputs": [
    {
     "data": {
      "text/plain": [
       "['orange', 'pineapple']"
      ]
     },
     "execution_count": 10,
     "metadata": {},
     "output_type": "execute_result"
    }
   ],
   "source": [
    "# Slicing using the zero index\n",
    "products[2:4]"
   ]
  },
  {
   "cell_type": "code",
   "execution_count": 11,
   "id": "292e8f6f",
   "metadata": {},
   "outputs": [
    {
     "data": {
      "text/plain": [
       "['orange', 'pineapple', 'mango', 'pear', 'grapes', 'lemon']"
      ]
     },
     "execution_count": 11,
     "metadata": {},
     "output_type": "execute_result"
    }
   ],
   "source": [
    "products[2:]"
   ]
  },
  {
   "cell_type": "code",
   "execution_count": 12,
   "id": "a75a6118",
   "metadata": {},
   "outputs": [
    {
     "data": {
      "text/plain": [
       "['apple', 'lime', 'orange', 'pineapple', 'mango', 'pear']"
      ]
     },
     "execution_count": 12,
     "metadata": {},
     "output_type": "execute_result"
    }
   ],
   "source": [
    "products[:6]"
   ]
  },
  {
   "cell_type": "code",
   "execution_count": 13,
   "id": "f0aa6985",
   "metadata": {},
   "outputs": [
    {
     "data": {
      "text/plain": [
       "['orange', 'pineapple']"
      ]
     },
     "execution_count": 13,
     "metadata": {},
     "output_type": "execute_result"
    },
    {
     "data": {
      "text/plain": [
       "['orange', 'pineapple', 'mango', 'pear', 'grapes', 'lemon']"
      ]
     },
     "execution_count": 13,
     "metadata": {},
     "output_type": "execute_result"
    },
    {
     "data": {
      "text/plain": [
       "['apple', 'lime', 'orange', 'pineapple', 'mango', 'pear']"
      ]
     },
     "execution_count": 13,
     "metadata": {},
     "output_type": "execute_result"
    }
   ],
   "source": [
    "# Slicing using the negative index\n",
    "products[-6:-4]\n",
    "products[-6: ]\n",
    "products[: -2]"
   ]
  }
 ],
 "metadata": {
  "kernelspec": {
   "display_name": "Python 3 (ipykernel)",
   "language": "python",
   "name": "python3"
  },
  "language_info": {
   "codemirror_mode": {
    "name": "ipython",
    "version": 3
   },
   "file_extension": ".py",
   "mimetype": "text/x-python",
   "name": "python",
   "nbconvert_exporter": "python",
   "pygments_lexer": "ipython3",
   "version": "3.9.12"
  }
 },
 "nbformat": 4,
 "nbformat_minor": 5
}
