{
 "cells": [
  {
   "cell_type": "code",
   "execution_count": 1,
   "id": "dfdd72a0",
   "metadata": {},
   "outputs": [
    {
     "data": {
      "text/plain": [
       "[2, 4, 6]"
      ]
     },
     "execution_count": 1,
     "metadata": {},
     "output_type": "execute_result"
    }
   ],
   "source": [
    "#  Aliasing\n",
    "quantity = [2, 4, 6]\n",
    "quantity"
   ]
  },
  {
   "cell_type": "code",
   "execution_count": 2,
   "id": "d78ea149",
   "metadata": {},
   "outputs": [],
   "source": [
    "quantity_copy = quantity"
   ]
  },
  {
   "cell_type": "code",
   "execution_count": 3,
   "id": "659e87f5",
   "metadata": {},
   "outputs": [
    {
     "data": {
      "text/plain": [
       "True"
      ]
     },
     "execution_count": 3,
     "metadata": {},
     "output_type": "execute_result"
    }
   ],
   "source": [
    "quantity is quantity_copy"
   ]
  },
  {
   "cell_type": "code",
   "execution_count": 4,
   "id": "bb749b26",
   "metadata": {},
   "outputs": [
    {
     "data": {
      "text/plain": [
       "[2, 4, 6, 10]"
      ]
     },
     "execution_count": 4,
     "metadata": {},
     "output_type": "execute_result"
    },
    {
     "data": {
      "text/plain": [
       "[2, 4, 6, 10]"
      ]
     },
     "execution_count": 4,
     "metadata": {},
     "output_type": "execute_result"
    }
   ],
   "source": [
    "quantity_copy.append(10)\n",
    "quantity_copy\n",
    "quantity"
   ]
  },
  {
   "cell_type": "code",
   "execution_count": 5,
   "id": "47af6a8e",
   "metadata": {},
   "outputs": [
    {
     "data": {
      "text/plain": [
       "[2, 4, 6, 10, 20]"
      ]
     },
     "execution_count": 5,
     "metadata": {},
     "output_type": "execute_result"
    },
    {
     "data": {
      "text/plain": [
       "[2, 4, 6, 10]"
      ]
     },
     "execution_count": 5,
     "metadata": {},
     "output_type": "execute_result"
    }
   ],
   "source": [
    "# Cloning\n",
    "quantity_clone = list(quantity) \n",
    "#  quantity_clone = quantity[:]\n",
    "quantity_clone.append(20)\n",
    "quantity_clone\n",
    "quantity"
   ]
  }
 ],
 "metadata": {
  "kernelspec": {
   "display_name": "Python 3 (ipykernel)",
   "language": "python",
   "name": "python3"
  },
  "language_info": {
   "codemirror_mode": {
    "name": "ipython",
    "version": 3
   },
   "file_extension": ".py",
   "mimetype": "text/x-python",
   "name": "python",
   "nbconvert_exporter": "python",
   "pygments_lexer": "ipython3",
   "version": "3.9.12"
  }
 },
 "nbformat": 4,
 "nbformat_minor": 5
}
