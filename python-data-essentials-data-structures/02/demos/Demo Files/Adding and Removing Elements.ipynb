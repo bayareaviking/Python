{
 "cells": [
  {
   "cell_type": "code",
   "execution_count": 1,
   "id": "aee5b276",
   "metadata": {},
   "outputs": [
    {
     "data": {
      "text/plain": [
       "['apple', 'banana', 'orange', 'mango', 'lemon']"
      ]
     },
     "execution_count": 1,
     "metadata": {},
     "output_type": "execute_result"
    }
   ],
   "source": [
    "products = ['apple', 'banana', 'orange', 'mango']\n",
    "products.append('lemon')\n",
    "products"
   ]
  },
  {
   "cell_type": "code",
   "execution_count": 2,
   "id": "439b8606",
   "metadata": {},
   "outputs": [
    {
     "data": {
      "text/plain": [
       "'lemon'"
      ]
     },
     "execution_count": 2,
     "metadata": {},
     "output_type": "execute_result"
    },
    {
     "data": {
      "text/plain": [
       "['apple', 'banana', 'orange', 'mango']"
      ]
     },
     "execution_count": 2,
     "metadata": {},
     "output_type": "execute_result"
    }
   ],
   "source": [
    "# Remove last element in the list\n",
    "products.pop()\n",
    "products"
   ]
  },
  {
   "cell_type": "code",
   "execution_count": 3,
   "id": "c51703e1",
   "metadata": {},
   "outputs": [
    {
     "data": {
      "text/plain": [
       "['banana', 'orange', 'mango']"
      ]
     },
     "execution_count": 3,
     "metadata": {},
     "output_type": "execute_result"
    }
   ],
   "source": [
    "# Remove elements\n",
    "products.remove('apple')\n",
    "products"
   ]
  },
  {
   "cell_type": "code",
   "execution_count": 4,
   "id": "309c7225",
   "metadata": {},
   "outputs": [
    {
     "data": {
      "text/plain": [
       "['banana', 'lemon', 'orange', 'mango']"
      ]
     },
     "execution_count": 4,
     "metadata": {},
     "output_type": "execute_result"
    }
   ],
   "source": [
    "# Add elements\n",
    "products.insert(1,'lemon')\n",
    "products"
   ]
  },
  {
   "cell_type": "code",
   "execution_count": 5,
   "id": "5409317d",
   "metadata": {},
   "outputs": [
    {
     "data": {
      "text/plain": [
       "['banana', 'lemon', 'orange', 'mango', 'TV', 'laptop']"
      ]
     },
     "execution_count": 5,
     "metadata": {},
     "output_type": "execute_result"
    }
   ],
   "source": [
    "electronics = ['TV', 'laptop']\n",
    "products.extend(electronics)\n",
    "products"
   ]
  },
  {
   "cell_type": "code",
   "execution_count": 6,
   "id": "b8e1545e",
   "metadata": {},
   "outputs": [
    {
     "data": {
      "text/plain": [
       "[]"
      ]
     },
     "execution_count": 6,
     "metadata": {},
     "output_type": "execute_result"
    }
   ],
   "source": [
    "# Delete all elements in a list\n",
    "electronics.clear()\n",
    "electronics"
   ]
  },
  {
   "cell_type": "code",
   "execution_count": 7,
   "id": "d725cbc7",
   "metadata": {},
   "outputs": [
    {
     "data": {
      "text/plain": [
       "['banana', 'lemon', 'orange', 'mango', 'TV', 'laptop']"
      ]
     },
     "execution_count": 7,
     "metadata": {},
     "output_type": "execute_result"
    }
   ],
   "source": [
    "products"
   ]
  },
  {
   "cell_type": "code",
   "execution_count": 8,
   "id": "4cbda68f",
   "metadata": {},
   "outputs": [
    {
     "ename": "NameError",
     "evalue": "name 'electronics' is not defined",
     "output_type": "error",
     "traceback": [
      "\u001b[0;31m---------------------------------------------------------------------------\u001b[0m",
      "\u001b[0;31mNameError\u001b[0m                                 Traceback (most recent call last)",
      "Input \u001b[0;32mIn [8]\u001b[0m, in \u001b[0;36m<cell line: 3>\u001b[0;34m()\u001b[0m\n\u001b[1;32m      1\u001b[0m \u001b[38;5;66;03m# Delete a list entirely\u001b[39;00m\n\u001b[1;32m      2\u001b[0m \u001b[38;5;28;01mdel\u001b[39;00m electronics\n\u001b[0;32m----> 3\u001b[0m \u001b[43melectronics\u001b[49m\n",
      "\u001b[0;31mNameError\u001b[0m: name 'electronics' is not defined"
     ]
    }
   ],
   "source": [
    "# Delete a list entirely\n",
    "del electronics\n",
    "electronics"
   ]
  },
  {
   "cell_type": "code",
   "execution_count": 9,
   "id": "57bdfa9c",
   "metadata": {},
   "outputs": [
    {
     "data": {
      "text/plain": [
       "['banana', 'lemon', 'orange', 'mango', 'TV', 'laptop']"
      ]
     },
     "execution_count": 9,
     "metadata": {},
     "output_type": "execute_result"
    }
   ],
   "source": [
    "products"
   ]
  }
 ],
 "metadata": {
  "kernelspec": {
   "display_name": "Python 3 (ipykernel)",
   "language": "python",
   "name": "python3"
  },
  "language_info": {
   "codemirror_mode": {
    "name": "ipython",
    "version": 3
   },
   "file_extension": ".py",
   "mimetype": "text/x-python",
   "name": "python",
   "nbconvert_exporter": "python",
   "pygments_lexer": "ipython3",
   "version": "3.9.12"
  }
 },
 "nbformat": 4,
 "nbformat_minor": 5
}
