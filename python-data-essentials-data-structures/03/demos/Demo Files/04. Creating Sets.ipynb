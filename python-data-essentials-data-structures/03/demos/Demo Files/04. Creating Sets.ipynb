{
 "cells": [
  {
   "cell_type": "code",
   "execution_count": 1,
   "id": "155f8867",
   "metadata": {},
   "outputs": [
    {
     "data": {
      "text/plain": [
       "['fruits', 'coffee', 'vegetables', 'candy', 'coffee', 'candy']"
      ]
     },
     "execution_count": 1,
     "metadata": {},
     "output_type": "execute_result"
    }
   ],
   "source": [
    "product_categories = ['fruits', 'coffee','vegetables', 'candy', 'coffee', 'candy']\n",
    "product_categories"
   ]
  },
  {
   "cell_type": "code",
   "execution_count": 2,
   "id": "1757f0e2",
   "metadata": {},
   "outputs": [
    {
     "data": {
      "text/plain": [
       "set"
      ]
     },
     "execution_count": 2,
     "metadata": {},
     "output_type": "execute_result"
    }
   ],
   "source": [
    "category = set(product_categories)\n",
    "type(category)"
   ]
  },
  {
   "cell_type": "code",
   "execution_count": 3,
   "id": "a7aca1aa",
   "metadata": {},
   "outputs": [
    {
     "data": {
      "text/plain": [
       "{'candy', 'coffee', 'fruits', 'vegetables'}"
      ]
     },
     "execution_count": 3,
     "metadata": {},
     "output_type": "execute_result"
    }
   ],
   "source": [
    "category"
   ]
  },
  {
   "cell_type": "code",
   "execution_count": 4,
   "id": "1fd7f663",
   "metadata": {},
   "outputs": [
    {
     "data": {
      "text/plain": [
       "{'Cappuccino', 'Espresso', 'Latte'}"
      ]
     },
     "execution_count": 4,
     "metadata": {},
     "output_type": "execute_result"
    }
   ],
   "source": [
    "coffee = {'Latte', 'Cappuccino', 'Espresso'}\n",
    "coffee"
   ]
  },
  {
   "cell_type": "code",
   "execution_count": 8,
   "id": "3238b5c9",
   "metadata": {},
   "outputs": [],
   "source": [
    "empty_set = set()"
   ]
  },
  {
   "cell_type": "code",
   "execution_count": 9,
   "id": "b8473f4d",
   "metadata": {},
   "outputs": [
    {
     "data": {
      "text/plain": [
       "set"
      ]
     },
     "execution_count": 9,
     "metadata": {},
     "output_type": "execute_result"
    }
   ],
   "source": [
    "type(empty_set)"
   ]
  }
 ],
 "metadata": {
  "kernelspec": {
   "display_name": "Python 3 (ipykernel)",
   "language": "python",
   "name": "python3"
  },
  "language_info": {
   "codemirror_mode": {
    "name": "ipython",
    "version": 3
   },
   "file_extension": ".py",
   "mimetype": "text/x-python",
   "name": "python",
   "nbconvert_exporter": "python",
   "pygments_lexer": "ipython3",
   "version": "3.9.12"
  }
 },
 "nbformat": 4,
 "nbformat_minor": 5
}
