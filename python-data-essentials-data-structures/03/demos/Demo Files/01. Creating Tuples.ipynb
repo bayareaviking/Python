{
 "cells": [
  {
   "cell_type": "code",
   "execution_count": 3,
   "id": "448bcc03",
   "metadata": {},
   "outputs": [
    {
     "data": {
      "text/plain": [
       "('lemon', 'mango', 'orange')"
      ]
     },
     "execution_count": 3,
     "metadata": {},
     "output_type": "execute_result"
    }
   ],
   "source": [
    "products = ('lemon', 'mango', 'orange')\n",
    "products"
   ]
  },
  {
   "cell_type": "code",
   "execution_count": 4,
   "id": "48213d7d",
   "metadata": {},
   "outputs": [],
   "source": [
    "product_information = ('mango', 1.4, [15, 20])"
   ]
  },
  {
   "cell_type": "code",
   "execution_count": 5,
   "id": "eb43a615",
   "metadata": {},
   "outputs": [
    {
     "data": {
      "text/plain": [
       "3"
      ]
     },
     "execution_count": 5,
     "metadata": {},
     "output_type": "execute_result"
    }
   ],
   "source": [
    "len(product_information)"
   ]
  },
  {
   "cell_type": "code",
   "execution_count": 6,
   "id": "41e405cc",
   "metadata": {},
   "outputs": [
    {
     "ename": "TypeError",
     "evalue": "'tuple' object does not support item assignment",
     "output_type": "error",
     "traceback": [
      "\u001b[0;31m---------------------------------------------------------------------------\u001b[0m",
      "\u001b[0;31mTypeError\u001b[0m                                 Traceback (most recent call last)",
      "Input \u001b[0;32mIn [6]\u001b[0m, in \u001b[0;36m<cell line: 1>\u001b[0;34m()\u001b[0m\n\u001b[0;32m----> 1\u001b[0m product_information[\u001b[38;5;241m2\u001b[39m] \u001b[38;5;241m=\u001b[39m \u001b[38;5;241m1.8\u001b[39m\n",
      "\u001b[0;31mTypeError\u001b[0m: 'tuple' object does not support item assignment"
     ]
    }
   ],
   "source": [
    "product_information[1] = 1.8"
   ]
  },
  {
   "cell_type": "code",
   "execution_count": 7,
   "id": "3278d301",
   "metadata": {},
   "outputs": [
    {
     "data": {
      "text/plain": [
       "['mango', 1.4, [15, 20]]"
      ]
     },
     "execution_count": 7,
     "metadata": {},
     "output_type": "execute_result"
    }
   ],
   "source": [
    "# Convert the tuple into a list\n",
    "product_information = list(product_information)\n",
    "product_information"
   ]
  },
  {
   "cell_type": "code",
   "execution_count": 8,
   "id": "b5f2f965",
   "metadata": {},
   "outputs": [
    {
     "data": {
      "text/plain": [
       "['mango', 1.8, [15, 20]]"
      ]
     },
     "execution_count": 8,
     "metadata": {},
     "output_type": "execute_result"
    }
   ],
   "source": [
    "product_information[1] = 1.8\n",
    "product_information"
   ]
  },
  {
   "cell_type": "code",
   "execution_count": 10,
   "id": "26f3222a",
   "metadata": {},
   "outputs": [
    {
     "data": {
      "text/plain": [
       "('mango', 1.8, [15, 20])"
      ]
     },
     "execution_count": 10,
     "metadata": {},
     "output_type": "execute_result"
    }
   ],
   "source": [
    "# Convert the list into a tuple\n",
    "product_information = tuple(product_information)\n",
    "product_information"
   ]
  },
  {
   "cell_type": "code",
   "execution_count": 11,
   "id": "3bb90a25",
   "metadata": {},
   "outputs": [
    {
     "data": {
      "text/plain": [
       "('mango', 1.8, [15, 10])"
      ]
     },
     "execution_count": 11,
     "metadata": {},
     "output_type": "execute_result"
    }
   ],
   "source": [
    "# Altering mutable objects\n",
    "product_information[2][1] = 10\n",
    "product_information"
   ]
  },
  {
   "cell_type": "code",
   "execution_count": 13,
   "id": "e9251f8a",
   "metadata": {},
   "outputs": [
    {
     "data": {
      "text/plain": [
       "tuple"
      ]
     },
     "execution_count": 13,
     "metadata": {},
     "output_type": "execute_result"
    }
   ],
   "source": [
    "# Create a tuple with a single element\n",
    "fruit = ('mango',)\n",
    "type(fruit)"
   ]
  }
 ],
 "metadata": {
  "kernelspec": {
   "display_name": "Python 3 (ipykernel)",
   "language": "python",
   "name": "python3"
  },
  "language_info": {
   "codemirror_mode": {
    "name": "ipython",
    "version": 3
   },
   "file_extension": ".py",
   "mimetype": "text/x-python",
   "name": "python",
   "nbconvert_exporter": "python",
   "pygments_lexer": "ipython3",
   "version": "3.9.12"
  }
 },
 "nbformat": 4,
 "nbformat_minor": 5
}
