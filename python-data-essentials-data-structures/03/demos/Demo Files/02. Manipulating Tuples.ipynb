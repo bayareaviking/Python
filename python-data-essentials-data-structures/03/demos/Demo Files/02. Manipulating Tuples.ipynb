{
 "cells": [
  {
   "cell_type": "code",
   "execution_count": 1,
   "id": "e5c7b2dc",
   "metadata": {},
   "outputs": [],
   "source": [
    "mango_information = ('fruits', 1.4, [10, 15])\n",
    "lemon_information = ('fruits', 0.9, [5, 8])"
   ]
  },
  {
   "cell_type": "code",
   "execution_count": 2,
   "id": "c7b00629",
   "metadata": {},
   "outputs": [
    {
     "data": {
      "text/plain": [
       "['__add__',\n",
       " '__class__',\n",
       " '__class_getitem__',\n",
       " '__contains__',\n",
       " '__delattr__',\n",
       " '__dir__',\n",
       " '__doc__',\n",
       " '__eq__',\n",
       " '__format__',\n",
       " '__ge__',\n",
       " '__getattribute__',\n",
       " '__getitem__',\n",
       " '__getnewargs__',\n",
       " '__gt__',\n",
       " '__hash__',\n",
       " '__init__',\n",
       " '__init_subclass__',\n",
       " '__iter__',\n",
       " '__le__',\n",
       " '__len__',\n",
       " '__lt__',\n",
       " '__mul__',\n",
       " '__ne__',\n",
       " '__new__',\n",
       " '__reduce__',\n",
       " '__reduce_ex__',\n",
       " '__repr__',\n",
       " '__rmul__',\n",
       " '__setattr__',\n",
       " '__sizeof__',\n",
       " '__str__',\n",
       " '__subclasshook__',\n",
       " 'count',\n",
       " 'index']"
      ]
     },
     "execution_count": 2,
     "metadata": {},
     "output_type": "execute_result"
    }
   ],
   "source": [
    "dir(mango_information)"
   ]
  },
  {
   "cell_type": "code",
   "execution_count": 4,
   "id": "8478e859",
   "metadata": {},
   "outputs": [
    {
     "data": {
      "text/plain": [
       "('fruits', 1.4, [10, 15], 'fruits', 0.9, [5, 8])"
      ]
     },
     "execution_count": 4,
     "metadata": {},
     "output_type": "execute_result"
    }
   ],
   "source": [
    "product_information = mango_information + lemon_information\n",
    "product_information"
   ]
  },
  {
   "cell_type": "code",
   "execution_count": 5,
   "id": "896f2fb4",
   "metadata": {},
   "outputs": [
    {
     "data": {
      "text/plain": [
       "2"
      ]
     },
     "execution_count": 5,
     "metadata": {},
     "output_type": "execute_result"
    }
   ],
   "source": [
    "product_information.count('fruits')"
   ]
  },
  {
   "cell_type": "code",
   "execution_count": 6,
   "id": "31176518",
   "metadata": {},
   "outputs": [
    {
     "data": {
      "text/plain": [
       "4"
      ]
     },
     "execution_count": 6,
     "metadata": {},
     "output_type": "execute_result"
    }
   ],
   "source": [
    "product_information.index(0.9)"
   ]
  },
  {
   "cell_type": "code",
   "execution_count": 7,
   "id": "90486d37",
   "metadata": {},
   "outputs": [
    {
     "data": {
      "text/plain": [
       "1.4"
      ]
     },
     "execution_count": 7,
     "metadata": {},
     "output_type": "execute_result"
    }
   ],
   "source": [
    "product_information[1]"
   ]
  },
  {
   "cell_type": "code",
   "execution_count": 8,
   "id": "d94cc644",
   "metadata": {},
   "outputs": [
    {
     "data": {
      "text/plain": [
       "1.4"
      ]
     },
     "execution_count": 8,
     "metadata": {},
     "output_type": "execute_result"
    }
   ],
   "source": [
    "product_information[-5]"
   ]
  },
  {
   "cell_type": "code",
   "execution_count": 9,
   "id": "b1a63064",
   "metadata": {},
   "outputs": [
    {
     "data": {
      "text/plain": [
       "('fruits', 1.4, [10, 15], 'fruits', 0.9, [5, 8])"
      ]
     },
     "execution_count": 9,
     "metadata": {},
     "output_type": "execute_result"
    }
   ],
   "source": [
    "product_information[:]"
   ]
  },
  {
   "cell_type": "code",
   "execution_count": 10,
   "id": "4e2d4f6e",
   "metadata": {},
   "outputs": [
    {
     "data": {
      "text/plain": [
       "([10, 15], 'fruits', 0.9)"
      ]
     },
     "execution_count": 10,
     "metadata": {},
     "output_type": "execute_result"
    }
   ],
   "source": [
    "product_information[2:5]"
   ]
  },
  {
   "cell_type": "code",
   "execution_count": 11,
   "id": "98e0fcc6",
   "metadata": {},
   "outputs": [
    {
     "data": {
      "text/plain": [
       "('fruits', 0.9, [5, 8])"
      ]
     },
     "execution_count": 11,
     "metadata": {},
     "output_type": "execute_result"
    }
   ],
   "source": [
    "product_information[3:]"
   ]
  },
  {
   "cell_type": "code",
   "execution_count": 12,
   "id": "85f2ab6f",
   "metadata": {},
   "outputs": [
    {
     "data": {
      "text/plain": [
       "('fruits', 1.4, [10, 15])"
      ]
     },
     "execution_count": 12,
     "metadata": {},
     "output_type": "execute_result"
    }
   ],
   "source": [
    "product_information[:3]"
   ]
  },
  {
   "cell_type": "code",
   "execution_count": 13,
   "id": "0ce13261",
   "metadata": {},
   "outputs": [
    {
     "data": {
      "text/plain": [
       "8"
      ]
     },
     "execution_count": 13,
     "metadata": {},
     "output_type": "execute_result"
    }
   ],
   "source": [
    "product_information[5][1]"
   ]
  }
 ],
 "metadata": {
  "kernelspec": {
   "display_name": "Python 3 (ipykernel)",
   "language": "python",
   "name": "python3"
  },
  "language_info": {
   "codemirror_mode": {
    "name": "ipython",
    "version": 3
   },
   "file_extension": ".py",
   "mimetype": "text/x-python",
   "name": "python",
   "nbconvert_exporter": "python",
   "pygments_lexer": "ipython3",
   "version": "3.9.12"
  }
 },
 "nbformat": 4,
 "nbformat_minor": 5
}
