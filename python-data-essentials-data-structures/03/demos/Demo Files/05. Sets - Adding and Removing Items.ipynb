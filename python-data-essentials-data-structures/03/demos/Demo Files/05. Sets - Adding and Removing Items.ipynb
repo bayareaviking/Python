{
 "cells": [
  {
   "cell_type": "code",
   "execution_count": 1,
   "id": "459a54cc",
   "metadata": {},
   "outputs": [
    {
     "data": {
      "text/plain": [
       "set"
      ]
     },
     "execution_count": 1,
     "metadata": {},
     "output_type": "execute_result"
    }
   ],
   "source": [
    "categories = {'fruits', 'coffee','vegetables', 'candy', 'coffee'}\n",
    "type(categories)"
   ]
  },
  {
   "cell_type": "code",
   "execution_count": 2,
   "id": "8d8c63e0",
   "metadata": {},
   "outputs": [],
   "source": [
    "# Removing elements\n",
    "categories.discard('candy')"
   ]
  },
  {
   "cell_type": "code",
   "execution_count": 3,
   "id": "c3ca0a3e",
   "metadata": {},
   "outputs": [
    {
     "data": {
      "text/plain": [
       "{'coffee', 'fruits', 'vegetables'}"
      ]
     },
     "execution_count": 3,
     "metadata": {},
     "output_type": "execute_result"
    }
   ],
   "source": [
    "categories"
   ]
  },
  {
   "cell_type": "code",
   "execution_count": 4,
   "id": "323490a1",
   "metadata": {},
   "outputs": [
    {
     "data": {
      "text/plain": [
       "False"
      ]
     },
     "execution_count": 4,
     "metadata": {},
     "output_type": "execute_result"
    }
   ],
   "source": [
    "'candy' in categories"
   ]
  },
  {
   "cell_type": "code",
   "execution_count": 5,
   "id": "f0f3292b",
   "metadata": {},
   "outputs": [
    {
     "ename": "KeyError",
     "evalue": "'candy'",
     "output_type": "error",
     "traceback": [
      "\u001b[0;31m---------------------------------------------------------------------------\u001b[0m",
      "\u001b[0;31mKeyError\u001b[0m                                  Traceback (most recent call last)",
      "Input \u001b[0;32mIn [5]\u001b[0m, in \u001b[0;36m<cell line: 1>\u001b[0;34m()\u001b[0m\n\u001b[0;32m----> 1\u001b[0m \u001b[43mcategories\u001b[49m\u001b[38;5;241;43m.\u001b[39;49m\u001b[43mremove\u001b[49m\u001b[43m(\u001b[49m\u001b[38;5;124;43m'\u001b[39;49m\u001b[38;5;124;43mcandy\u001b[39;49m\u001b[38;5;124;43m'\u001b[39;49m\u001b[43m)\u001b[49m\n",
      "\u001b[0;31mKeyError\u001b[0m: 'candy'"
     ]
    }
   ],
   "source": [
    "categories.remove('candy')"
   ]
  },
  {
   "cell_type": "code",
   "execution_count": 6,
   "id": "4ff40f8b",
   "metadata": {},
   "outputs": [],
   "source": [
    "categories.discard('candy')"
   ]
  },
  {
   "cell_type": "code",
   "execution_count": 7,
   "id": "eb6b23a7",
   "metadata": {},
   "outputs": [
    {
     "data": {
      "text/plain": [
       "{'coffee', 'fruits', 'seafood', 'vegetables'}"
      ]
     },
     "execution_count": 7,
     "metadata": {},
     "output_type": "execute_result"
    }
   ],
   "source": [
    "# Adding elements\n",
    "categories.add('seafood')\n",
    "categories"
   ]
  },
  {
   "cell_type": "code",
   "execution_count": 8,
   "id": "301c24fe",
   "metadata": {},
   "outputs": [],
   "source": [
    "categories.add('coffee')"
   ]
  },
  {
   "cell_type": "code",
   "execution_count": 9,
   "id": "7af2eb4b",
   "metadata": {},
   "outputs": [
    {
     "data": {
      "text/plain": [
       "{'clothing', 'coffee', 'electronics', 'fruits', 'seafood', 'vegetables'}"
      ]
     },
     "execution_count": 9,
     "metadata": {},
     "output_type": "execute_result"
    }
   ],
   "source": [
    "new_categories = {'electronics', 'clothing'}\n",
    "categories.update(new_categories)\n",
    "categories"
   ]
  },
  {
   "cell_type": "code",
   "execution_count": 10,
   "id": "9281c66e",
   "metadata": {},
   "outputs": [
    {
     "data": {
      "text/plain": [
       "'fruits'"
      ]
     },
     "execution_count": 10,
     "metadata": {},
     "output_type": "execute_result"
    },
    {
     "data": {
      "text/plain": [
       "{'clothing', 'coffee', 'electronics', 'seafood', 'vegetables'}"
      ]
     },
     "execution_count": 10,
     "metadata": {},
     "output_type": "execute_result"
    }
   ],
   "source": [
    "# pop() method\n",
    "categories.pop()\n",
    "categories"
   ]
  }
 ],
 "metadata": {
  "kernelspec": {
   "display_name": "Python 3 (ipykernel)",
   "language": "python",
   "name": "python3"
  },
  "language_info": {
   "codemirror_mode": {
    "name": "ipython",
    "version": 3
   },
   "file_extension": ".py",
   "mimetype": "text/x-python",
   "name": "python",
   "nbconvert_exporter": "python",
   "pygments_lexer": "ipython3",
   "version": "3.9.12"
  }
 },
 "nbformat": 4,
 "nbformat_minor": 5
}
