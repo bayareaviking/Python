{
 "cells": [
  {
   "cell_type": "code",
   "execution_count": 2,
   "id": "e767a51b",
   "metadata": {},
   "outputs": [],
   "source": [
    "A = { 'coffee', 'electronics','vegetables', 'fruits', 'seafood'}\n",
    "B = {'fruits','clothing', 'beverages',  'meat', 'vegetables'}"
   ]
  },
  {
   "cell_type": "code",
   "execution_count": 3,
   "id": "3610bd66",
   "metadata": {},
   "outputs": [
    {
     "data": {
      "text/plain": [
       "{'beverages',\n",
       " 'clothing',\n",
       " 'coffee',\n",
       " 'electronics',\n",
       " 'fruits',\n",
       " 'meat',\n",
       " 'seafood',\n",
       " 'vegetables'}"
      ]
     },
     "execution_count": 3,
     "metadata": {},
     "output_type": "execute_result"
    }
   ],
   "source": [
    "A.union(B)"
   ]
  },
  {
   "cell_type": "code",
   "execution_count": 4,
   "id": "8443c4e1",
   "metadata": {},
   "outputs": [
    {
     "data": {
      "text/plain": [
       "{'fruits', 'vegetables'}"
      ]
     },
     "execution_count": 4,
     "metadata": {},
     "output_type": "execute_result"
    }
   ],
   "source": [
    "A.intersection(B)"
   ]
  },
  {
   "cell_type": "code",
   "execution_count": 5,
   "id": "8c07eed2",
   "metadata": {},
   "outputs": [
    {
     "data": {
      "text/plain": [
       "{'beverages', 'clothing', 'meat'}"
      ]
     },
     "execution_count": 5,
     "metadata": {},
     "output_type": "execute_result"
    }
   ],
   "source": [
    "B.difference(A)"
   ]
  },
  {
   "cell_type": "code",
   "execution_count": 6,
   "id": "cf68bc3b",
   "metadata": {},
   "outputs": [
    {
     "data": {
      "text/plain": [
       "False"
      ]
     },
     "execution_count": 6,
     "metadata": {},
     "output_type": "execute_result"
    }
   ],
   "source": [
    "B.issubset(A)"
   ]
  },
  {
   "cell_type": "code",
   "execution_count": 7,
   "id": "fbeadd98",
   "metadata": {},
   "outputs": [
    {
     "data": {
      "text/plain": [
       "False"
      ]
     },
     "execution_count": 7,
     "metadata": {},
     "output_type": "execute_result"
    }
   ],
   "source": [
    "B.issuperset(A)"
   ]
  }
 ],
 "metadata": {
  "kernelspec": {
   "display_name": "Python 3 (ipykernel)",
   "language": "python",
   "name": "python3"
  },
  "language_info": {
   "codemirror_mode": {
    "name": "ipython",
    "version": 3
   },
   "file_extension": ".py",
   "mimetype": "text/x-python",
   "name": "python",
   "nbconvert_exporter": "python",
   "pygments_lexer": "ipython3",
   "version": "3.9.12"
  }
 },
 "nbformat": 4,
 "nbformat_minor": 5
}
