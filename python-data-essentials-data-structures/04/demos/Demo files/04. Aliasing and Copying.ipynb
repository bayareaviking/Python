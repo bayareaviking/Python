{
 "cells": [
  {
   "cell_type": "code",
   "execution_count": 1,
   "id": "27eac183",
   "metadata": {},
   "outputs": [
    {
     "data": {
      "text/plain": [
       "{'mango': 30, 'kiwi': 20, 'orange': 10}"
      ]
     },
     "execution_count": 1,
     "metadata": {},
     "output_type": "execute_result"
    }
   ],
   "source": [
    "inventory =  {'mango': 30, 'kiwi': 20, 'orange': 10}\n",
    "inventory"
   ]
  },
  {
   "cell_type": "code",
   "execution_count": 2,
   "id": "fd86e29f",
   "metadata": {},
   "outputs": [],
   "source": [
    "inventory_copy = inventory"
   ]
  },
  {
   "cell_type": "code",
   "execution_count": 3,
   "id": "444bfafb",
   "metadata": {},
   "outputs": [
    {
     "data": {
      "text/plain": [
       "{'mango': 30, 'kiwi': 20, 'orange': 10}"
      ]
     },
     "execution_count": 3,
     "metadata": {},
     "output_type": "execute_result"
    },
    {
     "data": {
      "text/plain": [
       "{'mango': 30, 'kiwi': 20, 'orange': 10}"
      ]
     },
     "execution_count": 3,
     "metadata": {},
     "output_type": "execute_result"
    }
   ],
   "source": [
    "inventory\n",
    "inventory_copy"
   ]
  },
  {
   "cell_type": "code",
   "execution_count": 4,
   "id": "4acb1a92",
   "metadata": {},
   "outputs": [],
   "source": [
    "inventory_copy.update({'lemon': 5})"
   ]
  },
  {
   "cell_type": "code",
   "execution_count": 5,
   "id": "88435b53",
   "metadata": {},
   "outputs": [
    {
     "data": {
      "text/plain": [
       "{'mango': 30, 'kiwi': 20, 'orange': 10, 'lemon': 5}"
      ]
     },
     "execution_count": 5,
     "metadata": {},
     "output_type": "execute_result"
    },
    {
     "data": {
      "text/plain": [
       "{'mango': 30, 'kiwi': 20, 'orange': 10, 'lemon': 5}"
      ]
     },
     "execution_count": 5,
     "metadata": {},
     "output_type": "execute_result"
    }
   ],
   "source": [
    "inventory\n",
    "inventory_copy"
   ]
  },
  {
   "cell_type": "code",
   "execution_count": 6,
   "id": "dca444c7",
   "metadata": {},
   "outputs": [],
   "source": [
    "# Copy() method\n",
    "supply = inventory.copy()"
   ]
  },
  {
   "cell_type": "code",
   "execution_count": 7,
   "id": "016b7022",
   "metadata": {},
   "outputs": [],
   "source": [
    "supply.update({'apple': 10})"
   ]
  },
  {
   "cell_type": "code",
   "execution_count": 8,
   "id": "07497cc2",
   "metadata": {},
   "outputs": [
    {
     "data": {
      "text/plain": [
       "{'mango': 30, 'kiwi': 20, 'orange': 10, 'lemon': 5}"
      ]
     },
     "execution_count": 8,
     "metadata": {},
     "output_type": "execute_result"
    },
    {
     "data": {
      "text/plain": [
       "{'mango': 30, 'kiwi': 20, 'orange': 10, 'lemon': 5, 'apple': 10}"
      ]
     },
     "execution_count": 8,
     "metadata": {},
     "output_type": "execute_result"
    }
   ],
   "source": [
    "inventory\n",
    "supply"
   ]
  }
 ],
 "metadata": {
  "kernelspec": {
   "display_name": "Python 3 (ipykernel)",
   "language": "python",
   "name": "python3"
  },
  "language_info": {
   "codemirror_mode": {
    "name": "ipython",
    "version": 3
   },
   "file_extension": ".py",
   "mimetype": "text/x-python",
   "name": "python",
   "nbconvert_exporter": "python",
   "pygments_lexer": "ipython3",
   "version": "3.9.12"
  }
 },
 "nbformat": 4,
 "nbformat_minor": 5
}
