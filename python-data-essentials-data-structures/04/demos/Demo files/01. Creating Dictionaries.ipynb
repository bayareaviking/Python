{
 "cells": [
  {
   "cell_type": "code",
   "execution_count": 1,
   "id": "16e704f2",
   "metadata": {},
   "outputs": [
    {
     "data": {
      "text/plain": [
       "{'apple': 4, 'mango': 6, 'orange': 8}"
      ]
     },
     "execution_count": 1,
     "metadata": {},
     "output_type": "execute_result"
    }
   ],
   "source": [
    "# Constructing a dictionary\n",
    "supply = {'apple': 4, 'mango': 6, 'orange': 8}\n",
    "supply"
   ]
  },
  {
   "cell_type": "code",
   "execution_count": 2,
   "id": "07a6f414",
   "metadata": {},
   "outputs": [
    {
     "data": {
      "text/plain": [
       "dict"
      ]
     },
     "execution_count": 2,
     "metadata": {},
     "output_type": "execute_result"
    }
   ],
   "source": [
    "type(supply)"
   ]
  },
  {
   "cell_type": "code",
   "execution_count": 3,
   "id": "a86968b9",
   "metadata": {},
   "outputs": [
    {
     "data": {
      "text/plain": [
       "6"
      ]
     },
     "execution_count": 3,
     "metadata": {},
     "output_type": "execute_result"
    }
   ],
   "source": [
    "# Selecting a value\n",
    "supply['mango']"
   ]
  },
  {
   "cell_type": "code",
   "execution_count": 4,
   "id": "00dd307b",
   "metadata": {},
   "outputs": [],
   "source": [
    "# Changing a value\n",
    "supply['orange'] = 2"
   ]
  },
  {
   "cell_type": "code",
   "execution_count": 5,
   "id": "362c3c32",
   "metadata": {},
   "outputs": [
    {
     "data": {
      "text/plain": [
       "{'apple': 4, 'mango': 6, 'orange': 2}"
      ]
     },
     "execution_count": 5,
     "metadata": {},
     "output_type": "execute_result"
    }
   ],
   "source": [
    "supply"
   ]
  },
  {
   "cell_type": "code",
   "execution_count": 6,
   "id": "7a9fb0f1",
   "metadata": {},
   "outputs": [
    {
     "data": {
      "text/plain": [
       "{'orange': 1.2}"
      ]
     },
     "execution_count": 6,
     "metadata": {},
     "output_type": "execute_result"
    }
   ],
   "source": [
    "# constructing a new dictionary\n",
    "basket = dict(orange = 1.2)\n",
    "basket"
   ]
  },
  {
   "cell_type": "code",
   "execution_count": 7,
   "id": "d99969a4",
   "metadata": {},
   "outputs": [
    {
     "data": {
      "text/plain": [
       "dict"
      ]
     },
     "execution_count": 7,
     "metadata": {},
     "output_type": "execute_result"
    }
   ],
   "source": [
    "type(basket)"
   ]
  },
  {
   "cell_type": "code",
   "execution_count": 8,
   "id": "1561eaf7",
   "metadata": {},
   "outputs": [
    {
     "data": {
      "text/plain": [
       "{'orange': 1.2, 'lemon': 0.9}"
      ]
     },
     "execution_count": 8,
     "metadata": {},
     "output_type": "execute_result"
    }
   ],
   "source": [
    "# Adding elements\n",
    "basket['lemon'] = 0.9\n",
    "basket"
   ]
  },
  {
   "cell_type": "code",
   "execution_count": 9,
   "id": "02deaa58",
   "metadata": {},
   "outputs": [],
   "source": [
    "# Creating a nested dictionary\n",
    "inventory = {'orange': {'price': 1.2, 'stock': 10},\n",
    "             'lemon': {'price': 0.9, 'stock': 20}}"
   ]
  },
  {
   "cell_type": "code",
   "execution_count": 10,
   "id": "86b3950e",
   "metadata": {},
   "outputs": [
    {
     "data": {
      "text/plain": [
       "{'orange': {'price': 1.2, 'stock': 10}, 'lemon': {'price': 0.9, 'stock': 20}}"
      ]
     },
     "execution_count": 10,
     "metadata": {},
     "output_type": "execute_result"
    }
   ],
   "source": [
    "inventory"
   ]
  },
  {
   "cell_type": "code",
   "execution_count": 11,
   "id": "5e94c962",
   "metadata": {},
   "outputs": [
    {
     "data": {
      "text/plain": [
       "2"
      ]
     },
     "execution_count": 11,
     "metadata": {},
     "output_type": "execute_result"
    }
   ],
   "source": [
    "len(inventory)"
   ]
  },
  {
   "cell_type": "code",
   "execution_count": 12,
   "id": "493fe483",
   "metadata": {},
   "outputs": [
    {
     "data": {
      "text/plain": [
       "1.2"
      ]
     },
     "execution_count": 12,
     "metadata": {},
     "output_type": "execute_result"
    }
   ],
   "source": [
    "# Retriving a value\n",
    "inventory['orange']['price']"
   ]
  },
  {
   "cell_type": "code",
   "execution_count": 14,
   "id": "cc536990",
   "metadata": {},
   "outputs": [
    {
     "data": {
      "text/plain": [
       "{'orange': 1.2, 'lemon': 0.9}"
      ]
     },
     "execution_count": 14,
     "metadata": {},
     "output_type": "execute_result"
    }
   ],
   "source": [
    "# Converting lists into dictionaries\n",
    "products = ['orange', 'lemon']\n",
    "prices = [1.2, 0.9]\n",
    "cart = dict(zip(products, prices))\n",
    "cart"
   ]
  }
 ],
 "metadata": {
  "kernelspec": {
   "display_name": "Python 3 (ipykernel)",
   "language": "python",
   "name": "python3"
  },
  "language_info": {
   "codemirror_mode": {
    "name": "ipython",
    "version": 3
   },
   "file_extension": ".py",
   "mimetype": "text/x-python",
   "name": "python",
   "nbconvert_exporter": "python",
   "pygments_lexer": "ipython3",
   "version": "3.9.12"
  }
 },
 "nbformat": 4,
 "nbformat_minor": 5
}
