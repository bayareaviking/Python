{
 "cells": [
  {
   "cell_type": "code",
   "execution_count": 1,
   "id": "a6fa8c44",
   "metadata": {},
   "outputs": [
    {
     "data": {
      "text/plain": [
       "{'apple': 30, 'kiwi': 20, 'orange': 10}"
      ]
     },
     "execution_count": 1,
     "metadata": {},
     "output_type": "execute_result"
    }
   ],
   "source": [
    "inventory = {'apple': 30, 'kiwi': 20, 'orange': 10}\n",
    "inventory"
   ]
  },
  {
   "cell_type": "code",
   "execution_count": 3,
   "id": "c5e6e066",
   "metadata": {},
   "outputs": [],
   "source": [
    "# Add a new element\n",
    "inventory.update({'mango': 5})"
   ]
  },
  {
   "cell_type": "code",
   "execution_count": 4,
   "id": "26b40314",
   "metadata": {},
   "outputs": [
    {
     "data": {
      "text/plain": [
       "{'apple': 30, 'kiwi': 20, 'orange': 10, 'mango': 5}"
      ]
     },
     "execution_count": 4,
     "metadata": {},
     "output_type": "execute_result"
    }
   ],
   "source": [
    "inventory"
   ]
  },
  {
   "cell_type": "code",
   "execution_count": 5,
   "id": "642e334d",
   "metadata": {},
   "outputs": [],
   "source": [
    "inventory.update({'orange': 100})"
   ]
  },
  {
   "cell_type": "code",
   "execution_count": 6,
   "id": "12f7eaa0",
   "metadata": {},
   "outputs": [
    {
     "data": {
      "text/plain": [
       "{'apple': 30, 'kiwi': 20, 'orange': 100, 'mango': 5}"
      ]
     },
     "execution_count": 6,
     "metadata": {},
     "output_type": "execute_result"
    }
   ],
   "source": [
    "inventory"
   ]
  },
  {
   "cell_type": "code",
   "execution_count": 7,
   "id": "55d71eee",
   "metadata": {},
   "outputs": [
    {
     "data": {
      "text/plain": [
       "{'apple': 30, 'kiwi': 20, 'orange': 100, 'mango': 5, 'pear': 25, 'lemon': 15}"
      ]
     },
     "execution_count": 7,
     "metadata": {},
     "output_type": "execute_result"
    }
   ],
   "source": [
    "# Add multiple elements\n",
    "inventory.update({'pear': 25, 'lemon': 15})\n",
    "inventory"
   ]
  },
  {
   "cell_type": "code",
   "execution_count": 8,
   "id": "c0281884",
   "metadata": {},
   "outputs": [
    {
     "data": {
      "text/plain": [
       "100"
      ]
     },
     "execution_count": 8,
     "metadata": {},
     "output_type": "execute_result"
    },
    {
     "data": {
      "text/plain": [
       "{'apple': 30, 'kiwi': 20, 'mango': 5, 'pear': 25, 'lemon': 15}"
      ]
     },
     "execution_count": 8,
     "metadata": {},
     "output_type": "execute_result"
    }
   ],
   "source": [
    "# Remove elements\n",
    "inventory.pop('orange')\n",
    "inventory"
   ]
  },
  {
   "cell_type": "code",
   "execution_count": 10,
   "id": "ea44a7f8",
   "metadata": {},
   "outputs": [
    {
     "data": {
      "text/plain": [
       "'The product is not available'"
      ]
     },
     "execution_count": 10,
     "metadata": {},
     "output_type": "execute_result"
    }
   ],
   "source": [
    "inventory.pop('orange', 'The product is not available')"
   ]
  },
  {
   "cell_type": "code",
   "execution_count": 11,
   "id": "e8400e08",
   "metadata": {},
   "outputs": [
    {
     "data": {
      "text/plain": [
       "{'apple': 30, 'mango': 5, 'pear': 25, 'lemon': 15}"
      ]
     },
     "execution_count": 11,
     "metadata": {},
     "output_type": "execute_result"
    }
   ],
   "source": [
    "del inventory['kiwi']\n",
    "inventory"
   ]
  },
  {
   "cell_type": "code",
   "execution_count": 12,
   "id": "663c4b55",
   "metadata": {},
   "outputs": [
    {
     "data": {
      "text/plain": [
       "('lemon', 15)"
      ]
     },
     "execution_count": 12,
     "metadata": {},
     "output_type": "execute_result"
    },
    {
     "data": {
      "text/plain": [
       "{'apple': 30, 'mango': 5, 'pear': 25}"
      ]
     },
     "execution_count": 12,
     "metadata": {},
     "output_type": "execute_result"
    }
   ],
   "source": [
    "# Remove the last added element\n",
    "inventory.popitem()\n",
    "inventory"
   ]
  },
  {
   "cell_type": "code",
   "execution_count": 13,
   "id": "4f5ceac1",
   "metadata": {},
   "outputs": [
    {
     "data": {
      "text/plain": [
       "{}"
      ]
     },
     "execution_count": 13,
     "metadata": {},
     "output_type": "execute_result"
    }
   ],
   "source": [
    "# Remove all elements\n",
    "inventory.clear()\n",
    "inventory"
   ]
  }
 ],
 "metadata": {
  "kernelspec": {
   "display_name": "Python 3 (ipykernel)",
   "language": "python",
   "name": "python3"
  },
  "language_info": {
   "codemirror_mode": {
    "name": "ipython",
    "version": 3
   },
   "file_extension": ".py",
   "mimetype": "text/x-python",
   "name": "python",
   "nbconvert_exporter": "python",
   "pygments_lexer": "ipython3",
   "version": "3.9.12"
  }
 },
 "nbformat": 4,
 "nbformat_minor": 5
}
