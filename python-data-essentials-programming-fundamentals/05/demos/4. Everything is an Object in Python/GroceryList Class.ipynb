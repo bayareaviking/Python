{
 "cells": [
  {
   "cell_type": "markdown",
   "id": "e8915cea",
   "metadata": {},
   "source": [
    "## Grocery List Script"
   ]
  },
  {
   "cell_type": "code",
   "execution_count": null,
   "id": "d9528134",
   "metadata": {},
   "outputs": [],
   "source": [
    "def separate_section():\n",
    "    print(\"-\" * 80)\n",
    "\n",
    "\n",
    "print(\"Grocery list program\")\n",
    "grocery_list = {}\n",
    "\n",
    "while True:\n",
    "    item_name_input = input(\"Input an item (type 'end' to finish): \")\n",
    "    if item_name_input == \"end\":\n",
    "        break\n",
    "    item_price_input = input(\"Input an item's price: \")\n",
    "    grocery_list[item_name_input] = float(item_price_input)\n",
    "\n",
    "separate_section()\n",
    "\n",
    "print(\"Here is your grocery list:\")\n",
    "for name, price in grocery_list.items():\n",
    "    print(f\"{name}: {price}\")\n",
    "\n",
    "separate_section()\n",
    "\n",
    "def find_in_dict(some_dict, *item_names):\n",
    "    for item_name in item_names:\n",
    "        for item in some_dict.keys():\n",
    "            if item == item_name:\n",
    "                print(f\"{item_name} is on the list!\")\n",
    "                break\n",
    "        else:\n",
    "            print(f\"{item_name} is not on the list.\")\n",
    "\n",
    "def groceries_total_cost(grocery_list):\n",
    "    total_cost = 0\n",
    "    for item_price in grocery_list.values():\n",
    "        total_cost += item_price\n",
    "    return total_cost"
   ]
  },
  {
   "cell_type": "markdown",
   "id": "048f578f",
   "metadata": {},
   "source": [
    "## GroceryList Class"
   ]
  },
  {
   "cell_type": "code",
   "execution_count": 1,
   "id": "aefab096",
   "metadata": {},
   "outputs": [
    {
     "name": "stdout",
     "output_type": "stream",
     "text": [
      "Input an item (type 'end' to finish): potatoes\n",
      "Input an item's price: 2.5\n",
      "Input an item (type 'end' to finish): eggs\n",
      "Input an item's price: 3.5\n",
      "Input an item (type 'end' to finish): celery\n",
      "Input an item's price: 6.5\n",
      "Input an item (type 'end' to finish): end\n",
      "--------------------------------------------------------------------------------\n",
      "potatoes is on the list!\n",
      "eggs is on the list!\n",
      "bread is not on the list.\n",
      "--------------------------------------------------------------------------------\n",
      "Here is your Monday grocery list:\n",
      "potatoes: 2.5\n",
      "eggs: 3.5\n",
      "celery: 6.5\n",
      "Total amount: 12.5\n"
     ]
    }
   ],
   "source": [
    "class GroceryList:\n",
    "    def __init__(self, name):\n",
    "        self.name = name\n",
    "        self.groceries_dict = {}\n",
    "\n",
    "    def input_groceries(self):\n",
    "        while True:\n",
    "            item_name_input = input(\"Input an item (type 'end' to finish): \")\n",
    "            if item_name_input == \"end\":\n",
    "                break\n",
    "            item_price_input = input(\"Input an item's price: \")\n",
    "            self.groceries_dict[item_name_input] = float(item_price_input)\n",
    "            \n",
    "    def info(self):\n",
    "        print(f\"Here is your {self.name} grocery list:\")\n",
    "        for name, price in self.groceries_dict.items():\n",
    "            print(f\"{name}: {price}\")\n",
    "        print(f\"Total amount: {self.total_cost()}\")\n",
    "\n",
    "    def find_in_dict(self, *item_names):\n",
    "        for item_name in item_names:\n",
    "            for item in self.groceries_dict.keys():\n",
    "                if item == item_name:\n",
    "                    print(f\"{item_name.capitalize()} is on the list!\")\n",
    "                    break\n",
    "            else:\n",
    "                print(f\"{item_name.capitalize()} is not on the list.\")\n",
    "\n",
    "    def total_cost(self):\n",
    "        total_cost = 0\n",
    "        for item_price in self.groceries_dict.values():\n",
    "            total_cost += item_price\n",
    "        return total_cost\n",
    "\n",
    "    \n",
    "def separate_section():\n",
    "    print(\"-\" * 80)\n",
    "\n",
    "\n",
    "monday_groceries = GroceryList(\"Monday\")\n",
    "monday_groceries.input_groceries()\n",
    "separate_section()\n",
    "monday_groceries.find_in_dict(\"potatoes\", \"eggs\", \"bread\")\n",
    "separate_section()\n",
    "monday_groceries.info()"
   ]
  }
 ],
 "metadata": {
  "kernelspec": {
   "display_name": "Python 3 (ipykernel)",
   "language": "python",
   "name": "python3"
  },
  "language_info": {
   "codemirror_mode": {
    "name": "ipython",
    "version": 3
   },
   "file_extension": ".py",
   "mimetype": "text/x-python",
   "name": "python",
   "nbconvert_exporter": "python",
   "pygments_lexer": "ipython3",
   "version": "3.11.2"
  }
 },
 "nbformat": 4,
 "nbformat_minor": 5
}
