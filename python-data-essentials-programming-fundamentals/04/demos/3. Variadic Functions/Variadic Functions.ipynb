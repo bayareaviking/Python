{
 "cells": [
  {
   "cell_type": "code",
   "execution_count": 1,
   "id": "d35390fc",
   "metadata": {},
   "outputs": [
    {
     "name": "stdout",
     "output_type": "stream",
     "text": [
      "x: a\n",
      "args: ('b', 'c', 'd')\n",
      "args[0]: b\n",
      "kwargs: {'first': 'e', 'second': 'f'}\n",
      "kwargs['first']: e\n",
      "b\n",
      "c\n",
      "d\n",
      "e\n",
      "f\n"
     ]
    }
   ],
   "source": [
    "def print_params(x, *args, **kwargs):\n",
    "    print(\"x:\", x)\n",
    "    print(\"args:\", args)\n",
    "    print(\"args[0]:\", args[0])\n",
    "    print(\"kwargs:\", kwargs)\n",
    "    print(\"kwargs['first']:\", kwargs['first'])\n",
    "    for item in args:\n",
    "        print(item)\n",
    "    for val in kwargs.values():\n",
    "        print(val)\n",
    "        \n",
    "print_params(\"a\", \"b\", \"c\", \"d\", first=\"e\", second=\"f\")"
   ]
  }
 ],
 "metadata": {
  "kernelspec": {
   "display_name": "Python 3 (ipykernel)",
   "language": "python",
   "name": "python3"
  },
  "language_info": {
   "codemirror_mode": {
    "name": "ipython",
    "version": 3
   },
   "file_extension": ".py",
   "mimetype": "text/x-python",
   "name": "python",
   "nbconvert_exporter": "python",
   "pygments_lexer": "ipython3",
   "version": "3.11.2"
  }
 },
 "nbformat": 4,
 "nbformat_minor": 5
}
