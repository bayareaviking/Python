{
 "cells": [
  {
   "cell_type": "code",
   "execution_count": null,
   "id": "f1fe2bf9",
   "metadata": {},
   "outputs": [],
   "source": [
    "num = 0\n",
    "lst = []\n",
    "# num = 20\n",
    "# lst = [1, 3, 4]"
   ]
  },
  {
   "cell_type": "code",
   "execution_count": null,
   "id": "5329e9fa",
   "metadata": {},
   "outputs": [],
   "source": [
    "# if bool(num):\n",
    "#     print(\"The expression is true.\")\n",
    "#     print(f\"Number is {num}\")\n",
    "\n",
    "if num:\n",
    "    print(\"The expression is true.\")\n",
    "    print(f\"Number is {num}\")"
   ]
  },
  {
   "cell_type": "code",
   "execution_count": null,
   "id": "ba883b74",
   "metadata": {},
   "outputs": [],
   "source": [
    "# if bool(lst):\n",
    "#     print(\"The expression is true.\")\n",
    "#     print(f\"List contains some elements.\")\n",
    "\n",
    "if lst:\n",
    "    print(\"The expression is true.\")\n",
    "    print(f\"List contains some elements.\")"
   ]
  }
 ],
 "metadata": {
  "kernelspec": {
   "display_name": "Python 3 (ipykernel)",
   "language": "python",
   "name": "python3"
  },
  "language_info": {
   "codemirror_mode": {
    "name": "ipython",
    "version": 3
   },
   "file_extension": ".py",
   "mimetype": "text/x-python",
   "name": "python",
   "nbconvert_exporter": "python",
   "pygments_lexer": "ipython3",
   "version": "3.11.0"
  }
 },
 "nbformat": 4,
 "nbformat_minor": 5
}
