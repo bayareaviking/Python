{
 "cells": [
  {
   "cell_type": "code",
   "execution_count": 1,
   "id": "cc53615f",
   "metadata": {},
   "outputs": [],
   "source": [
    "n1 = 3\n",
    "n2 = 5\n",
    "n3 = 3"
   ]
  },
  {
   "cell_type": "code",
   "execution_count": 2,
   "id": "397ec587",
   "metadata": {},
   "outputs": [
    {
     "name": "stdout",
     "output_type": "stream",
     "text": [
      "n1 is less than n2\n",
      "n1 is less than or equal to n3\n",
      "n1 is equal to n3\n",
      "n1 is not equal to n2\n"
     ]
    }
   ],
   "source": [
    "if n1 < n2:\n",
    "    print(\"n1 is less than n2\")\n",
    "\n",
    "if n1 > n2:\n",
    "    print(\"n1 is greater than n2\")\n",
    "\n",
    "if n1 <= n3:\n",
    "    print(\"n1 is less than or equal to n3\")\n",
    "\n",
    "if n3 >= n2:\n",
    "    print(\"n3 is greater than or equal to n2\")\n",
    "\n",
    "if n1 == n3:\n",
    "    print(\"n1 is equal to n3\")\n",
    "\n",
    "if n1 != n2:\n",
    "    print(\"n1 is not equal to n2\")"
   ]
  },
  {
   "cell_type": "code",
   "execution_count": 4,
   "id": "7e492f18",
   "metadata": {},
   "outputs": [
    {
     "data": {
      "text/plain": [
       "False"
      ]
     },
     "execution_count": 4,
     "metadata": {},
     "output_type": "execute_result"
    }
   ],
   "source": [
    "n1 < n3"
   ]
  },
  {
   "cell_type": "code",
   "execution_count": null,
   "id": "f42aeefc",
   "metadata": {},
   "outputs": [],
   "source": []
  }
 ],
 "metadata": {
  "kernelspec": {
   "display_name": "Python 3 (ipykernel)",
   "language": "python",
   "name": "python3"
  },
  "language_info": {
   "codemirror_mode": {
    "name": "ipython",
    "version": 3
   },
   "file_extension": ".py",
   "mimetype": "text/x-python",
   "name": "python",
   "nbconvert_exporter": "python",
   "pygments_lexer": "ipython3",
   "version": "3.11.0"
  }
 },
 "nbformat": 4,
 "nbformat_minor": 5
}
