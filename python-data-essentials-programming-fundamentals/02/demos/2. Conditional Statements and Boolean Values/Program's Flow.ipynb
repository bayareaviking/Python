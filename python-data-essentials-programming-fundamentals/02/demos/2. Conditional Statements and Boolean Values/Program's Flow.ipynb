{
 "cells": [
  {
   "cell_type": "code",
   "execution_count": 1,
   "id": "55b4d641",
   "metadata": {},
   "outputs": [],
   "source": [
    "num1 = 30"
   ]
  },
  {
   "cell_type": "code",
   "execution_count": 2,
   "id": "4f63c25f",
   "metadata": {},
   "outputs": [],
   "source": [
    "num2 = 20"
   ]
  },
  {
   "cell_type": "code",
   "execution_count": 8,
   "id": "de18aca8",
   "metadata": {},
   "outputs": [],
   "source": [
    "num3 = num1 + num2"
   ]
  },
  {
   "cell_type": "code",
   "execution_count": 7,
   "id": "4259196c",
   "metadata": {},
   "outputs": [
    {
     "name": "stdout",
     "output_type": "stream",
     "text": [
      "num3 is 20\n"
     ]
    }
   ],
   "source": [
    "print(f\"num3 is {num3}\")"
   ]
  },
  {
   "cell_type": "code",
   "execution_count": 5,
   "id": "09c152d5",
   "metadata": {},
   "outputs": [],
   "source": [
    "num3 = 20"
   ]
  },
  {
   "cell_type": "code",
   "execution_count": 9,
   "id": "624288dc",
   "metadata": {},
   "outputs": [
    {
     "name": "stdout",
     "output_type": "stream",
     "text": [
      "num3 is 50\n"
     ]
    }
   ],
   "source": [
    "print(f\"num3 is {num3}\")"
   ]
  },
  {
   "cell_type": "code",
   "execution_count": null,
   "id": "834b6359",
   "metadata": {},
   "outputs": [],
   "source": []
  }
 ],
 "metadata": {
  "kernelspec": {
   "display_name": "Python 3 (ipykernel)",
   "language": "python",
   "name": "python3"
  },
  "language_info": {
   "codemirror_mode": {
    "name": "ipython",
    "version": 3
   },
   "file_extension": ".py",
   "mimetype": "text/x-python",
   "name": "python",
   "nbconvert_exporter": "python",
   "pygments_lexer": "ipython3",
   "version": "3.11.0"
  }
 },
 "nbformat": 4,
 "nbformat_minor": 5
}
