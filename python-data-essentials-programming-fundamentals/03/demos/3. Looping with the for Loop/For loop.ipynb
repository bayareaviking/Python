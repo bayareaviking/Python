{
 "cells": [
  {
   "cell_type": "markdown",
   "id": "21922426",
   "metadata": {},
   "source": [
    "# Access the indices while iterating over a list"
   ]
  },
  {
   "cell_type": "code",
   "execution_count": 1,
   "id": "5c7da7d7",
   "metadata": {},
   "outputs": [],
   "source": [
    "lst = [23, 33, 22]"
   ]
  },
  {
   "cell_type": "code",
   "execution_count": 2,
   "id": "055e43cf",
   "metadata": {},
   "outputs": [
    {
     "name": "stdout",
     "output_type": "stream",
     "text": [
      "0. 23\n",
      "1. 33\n",
      "2. 22\n"
     ]
    }
   ],
   "source": [
    "for index, value in enumerate(lst):\n",
    "    print(f\"{index}. {value}\")"
   ]
  },
  {
   "cell_type": "markdown",
   "id": "4f36eaad",
   "metadata": {},
   "source": [
    "# Iterating over dictionaries"
   ]
  },
  {
   "cell_type": "code",
   "execution_count": 3,
   "id": "582e730d",
   "metadata": {},
   "outputs": [],
   "source": [
    "bank_account = {\n",
    "    \"name\": \"Luna\",\n",
    "    \"number\": \"021000012\",\n",
    "    \"balance\": 20000\n",
    "}"
   ]
  },
  {
   "cell_type": "markdown",
   "id": "38d0cf67",
   "metadata": {},
   "source": [
    "## Iterate just over the keys"
   ]
  },
  {
   "cell_type": "code",
   "execution_count": 4,
   "id": "6ed97a69",
   "metadata": {},
   "outputs": [
    {
     "name": "stdout",
     "output_type": "stream",
     "text": [
      "Keys\n",
      "name\n",
      "number\n",
      "balance\n"
     ]
    }
   ],
   "source": [
    "print(\"Keys\")\n",
    "for key in bank_account.keys():\n",
    "    print(key)"
   ]
  },
  {
   "cell_type": "markdown",
   "id": "dcee99cb",
   "metadata": {},
   "source": [
    "## Iterate just over the values"
   ]
  },
  {
   "cell_type": "code",
   "execution_count": 5,
   "id": "bbe393f1",
   "metadata": {},
   "outputs": [
    {
     "name": "stdout",
     "output_type": "stream",
     "text": [
      "Values\n",
      "Luna\n",
      "021000012\n",
      "20000\n"
     ]
    }
   ],
   "source": [
    "print(\"Values\")\n",
    "for value in bank_account.values():\n",
    "    print(value)"
   ]
  },
  {
   "cell_type": "markdown",
   "id": "887006ed",
   "metadata": {},
   "source": [
    "## Iterate over keys and values"
   ]
  },
  {
   "cell_type": "code",
   "execution_count": 6,
   "id": "d0e2a049",
   "metadata": {},
   "outputs": [
    {
     "name": "stdout",
     "output_type": "stream",
     "text": [
      "Keys and values\n",
      "name: Luna\n",
      "number: 021000012\n",
      "balance: 20000\n"
     ]
    }
   ],
   "source": [
    "print(\"Keys and values\")\n",
    "for key, value in bank_account.items():\n",
    "    print(f\"{key}: {value}\")"
   ]
  }
 ],
 "metadata": {
  "kernelspec": {
   "display_name": "Python 3 (ipykernel)",
   "language": "python",
   "name": "python3"
  },
  "language_info": {
   "codemirror_mode": {
    "name": "ipython",
    "version": 3
   },
   "file_extension": ".py",
   "mimetype": "text/x-python",
   "name": "python",
   "nbconvert_exporter": "python",
   "pygments_lexer": "ipython3",
   "version": "3.11.2"
  }
 },
 "nbformat": 4,
 "nbformat_minor": 5
}
